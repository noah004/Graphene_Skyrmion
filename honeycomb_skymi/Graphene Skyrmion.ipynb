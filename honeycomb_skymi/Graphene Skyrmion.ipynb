{
 "cells": [
  {
   "cell_type": "code",
   "execution_count": 3,
   "metadata": {},
   "outputs": [],
   "source": [
    "import math as m\n",
    "import matplotlib.pyplot as plt\n",
    "import numpy as np\n",
    "from mpl_toolkits.mplot3d import Axes3D\n",
    "from scipy.special import kv\n",
    "import spinmob \n",
    "%matplotlib inline\n",
    "import cmath as c\n",
    "from sympy import symbols\n",
    "#ianski is the best"
   ]
  },
  {
   "cell_type": "code",
   "execution_count": 13,
   "metadata": {},
   "outputs": [],
   "source": [
    "#spin orbit coupling\n",
    "def Hsoc (lamda,x,y):\n",
    "    return 4*lamda*(2*m.sin(m.sqrt(3)*y/2)*m.cos(3*x/2)-m.sin(m.sqrt(3)*y))\n",
    "def Hsocm (lamda,x,y):\n",
    "    return -4*lamda*(2*m.sin(m.sqrt(3)*y/2)*m.cos(3*x/2)-m.sin(m.sqrt(3)*y))\n",
    "\n",
    "#chemical potential \n",
    "def Hpot (lamda):\n",
    "    return lamda\n",
    "def Hpotm(lamda):\n",
    "    return -lamda\n",
    "\n",
    "#tight binding\n",
    "def Htb (t,x,y):\n",
    "    theta1 = complex(0,x/2)\n",
    "    theta2 = complex(0,-x)\n",
    "    return t*(2*c.exp(theta1)*m.cos(m.sqrt(3)*y/2)+c.exp(theta2))\n",
    "def Htbh (t,x,y) :\n",
    "    return Htb(t,x,y).conjugate()\n",
    "\n",
    "#Rashba term (tight binding and spin)\n",
    "def Hr_ud (lamda,x,y):\n",
    "    \n",
    "    theta1 = complex(0,x/2 + m.sqrt(3)*y/2)\n",
    "    theta2 = complex(0,x/2 - m.sqrt(3)*y/2)\n",
    "    theta3 = complex(0,-x)\n",
    "    \n",
    "    coef1 = complex(m.sqrt(3)/2,1/2)\n",
    "    coef2 = complex(-m.sqrt(3)/2,1/2)\n",
    "    coef3 = complex(0,1)\n",
    "    \n",
    "    return complex(0,1)*lamda*(coef1*c.exp(theta1) + coef2*c.exp(theta2) + coef3*c.exp(theta3))\n",
    "\n",
    "def Hrh_ud (lamda,x,y):\n",
    "    return Hr_ud(lamda,x,y).conjugate()\n",
    "    \n",
    "def Hr_du (lamda,x,y):\n",
    "    \n",
    "    theta1 = complex(0,x/2 + m.sqrt(3)*y/2)\n",
    "    theta2 = complex(0,x/2 - m.sqrt(3)*y/2)\n",
    "    theta3 = complex(0,-x)\n",
    "    \n",
    "    coef1 = complex(m.sqrt(3)/2, -1/2)\n",
    "    coef2 = complex(-m.sqrt(3)/2, -1/2)\n",
    "    coef3 = complex(0,-1)\n",
    "    \n",
    "    return complex(0,1)*lamda*(coef1*c.exp(theta1) + coef2*c.exp(theta2) + coef3*c.exp(theta3))\n",
    "\n",
    "def Hrh_du (lamda,x,y):\n",
    "    return Hr_du(lamda,x,y).conjugate()\n",
    "    \n"
   ]
  },
  {
   "cell_type": "code",
   "execution_count": 14,
   "metadata": {
    "scrolled": true
   },
   "outputs": [],
   "source": [
    "points = 5\n",
    "pot, soc, tb, r = 0, 1, 1, 2\n",
    "\n",
    "Ham = np.zeros((4,4))\n",
    "Energy = np.zeros((points*points,4))\n",
    "x = -m.pi\n",
    "y = -m.pi\n",
    "increment = 2*m.pi/points\n",
    "for i in range(points**2):\n",
    "    Ham = np.array([[Hsoc(soc,x,y)+Hpot(pot), Htb(tb,x,y), 0, Hr_ud(r,x,y)], \n",
    "                    [Htbh(tb,x,y), Hsocm(soc,x,y)-Hpot(pot), Hrh_ud(r,x,y), 0],\n",
    "                    [0, Hr_du(r,x,y), Hsoc(soc,x,y)+Hpot(pot), Htb(tb,x,y)], \n",
    "                    [Hrh_du(r,x,y), 0, Htbh(tb,x,y), Hsocm(soc,x,y)-Hpot(pot)]],     dtype = complex)\n",
    "    \n",
    "    Energy[i] = np.linalg.eig(Ham)[0]\n",
    "    x += increment\n",
    "    if x == m.pi:\n",
    "        x = -m.pi/2\n",
    "        y += increment\n",
    "          \n",
    "Energy1 = np.reshape(Energy,len(Energy)*len(Energy[0]))\n",
    "\n",
    "        "
   ]
  },
  {
   "cell_type": "code",
   "execution_count": 15,
   "metadata": {},
   "outputs": [
    {
     "name": "stdout",
     "output_type": "stream",
     "text": [
      "[-9.158787481129748, -9.158787481129734, -8.654607314554287, -8.65460731455428, -8.307896487747113, -8.307896487747108, -8.192274074571934, -8.192274074571921, -8.192274074571916, -8.192274074571904, -7.600428062782864, -7.6004280627828615, -7.256329560197544, -7.256329560197529, -7.256329560197528, -7.256329560197516, -6.876511062704955, -6.876511062704944, -6.876511062704931, -6.876511062704919, -5.994018633953138, -5.994018633953134, -5.994018633953132, -5.994018633953131, -5.2414251428391685, -5.241425142839164, -5.241425142839144, -5.241425142839139, -5.046275767146978, -5.046275767146978, -5.046275767146965, -5.046275767146965, -4.532765406762058, -4.532765406762054, -4.53276540676204, -4.532765406762034, -3.91383061149788, -3.91383061149788, -3.913830611497877, -3.9138306114978754, -3.6415432806927104, -3.6415432806927104, -3.6415432806927064, -3.6415432806927046, -3.2693664810012493, -3.269366481001246, -2.8004142330606574, -2.8004142330606574, -2.800414233060656, -2.800414233060656, 2.8004142330606543, 2.8004142330606543, 2.8004142330606547, 2.8004142330606547, 3.2693664810012466, 3.26936648100125, 3.641543280692705, 3.6415432806927077, 3.6415432806927095, 3.6415432806927113, 3.913830611497874, 3.913830611497877, 3.913830611497878, 3.913830611497879, 4.532765406762035, 4.532765406762037, 4.532765406762053, 4.5327654067620555, 5.046275767146972, 5.046275767146972, 5.046275767146976, 5.046275767146976, 5.241425142839137, 5.241425142839141, 5.241425142839155, 5.241425142839158, 5.994018633953131, 5.994018633953133, 5.9940186339531385, 5.994018633953139, 6.876511062704931, 6.876511062704933, 6.876511062704952, 6.876511062704954, 7.256329560197513, 7.256329560197522, 7.25632956019753, 7.256329560197538, 7.600428062782856, 7.600428062782857, 8.192274074571916, 8.192274074571916, 8.192274074571916, 8.19227407457192, 8.307896487747113, 8.307896487747117, 8.654607314554283, 8.654607314554287, 9.158787481129735, 9.15878748112975]\n"
     ]
    },
    {
     "data": {
      "text/plain": [
       "<matplotlib.collections.PathCollection at 0x112203f978>"
      ]
     },
     "execution_count": 15,
     "metadata": {},
     "output_type": "execute_result"
    },
    {
     "data": {
      "image/png": "[encoded data removed]",
      "text/plain": [
       "<Figure size 432x288 with 1 Axes>"
      ]
     },
     "metadata": {
      "needs_background": "light"
     },
     "output_type": "display_data"
    }
   ],
   "source": [
    "Energy1 = sorted(Energy1)\n",
    "print(Energy1)\n",
    "X = np.linspace(0,len(Energy1),len(Energy1))\n",
    "plt.scatter(X,Energy1)"
   ]
  },
  {
   "cell_type": "code",
   "execution_count": 16,
   "metadata": {
    "scrolled": true
   },
   "outputs": [
    {
     "data": {
      "text/plain": [
       "<matplotlib.collections.PathCollection at 0x1122b892b0>"
      ]
     },
     "execution_count": 16,
     "metadata": {},
     "output_type": "execute_result"
    },
    {
     "data": {
      "image/png": "[encoded data removed]",
      "text/plain": [
       "<Figure size 432x288 with 1 Axes>"
      ]
     },
     "metadata": {
      "needs_background": "light"
     },
     "output_type": "display_data"
    }
   ],
   "source": [
    "Energy = np.transpose(Energy)\n",
    "for i in range(len(Energy)):\n",
    "    Energy[i] = sorted(Energy[i])\n",
    "X = np.linspace(0,len(Energy[0]),len(Energy[0]))\n",
    "plt.scatter(X,Energy[0])\n",
    "plt.scatter(X,Energy[1])\n",
    "plt.scatter(X,Energy[2])\n",
    "plt.scatter(X,Energy[3])\n"
   ]
  },
  {
   "cell_type": "markdown",
   "metadata": {},
   "source": [
    "# Using Sympy"
   ]
  },
  {
   "cell_type": "code",
   "execution_count": 17,
   "metadata": {},
   "outputs": [],
   "source": [
    "#Using sympy:\n",
    "from sympy import *\n",
    "from sympy import I\n",
    "\n",
    "#spin orbit coupling\n",
    "def Hsoc (lamda,x,y):\n",
    "    return 4*lamda*(2*sin(sqrt(3)*y/2)*cos(3*x/2)-sin(sqrt(3)*y))\n",
    "def Hsocm (lamda,x,y):\n",
    "    return -4*lamda*(2*sin(sqrt(3)*y/2)*cos(3*x/2)-sin(sqrt(3)*y))\n",
    "\n",
    "#chemical potential \n",
    "def Hpot (lamda):\n",
    "    return lamda\n",
    "def Hpotm(lamda):\n",
    "    return -lamda\n",
    "\n",
    "#tight binding\n",
    "def Htb (t,x,y):\n",
    "    theta1 = I*x/2\n",
    "    theta2 = -I*x\n",
    "    return t*(2*exp(theta1)*cos(sqrt(3)*y/2)+exp(theta2))\n",
    "def Htbh (t,x,y) :\n",
    "    return conjugate(Htb(t,x,y))\n",
    "\n",
    "#Rashba term (tight binding and spin)\n",
    "def Hr_ud (lamda,x,y):\n",
    "    \n",
    "    theta1 = I*(x/2 + sqrt(3)*y/2)\n",
    "    theta2 = I*(x/2 - sqrt(3)*y/2)\n",
    "    theta3 = -I*x\n",
    "    \n",
    "    coef1 = sqrt(3)/2 + I/2\n",
    "    coef2 = -sqrt(3)/2 + I/2\n",
    "    coef3 = I\n",
    "    \n",
    "    return I*lamda*(coef1*exp(theta1) + coef2*exp(theta2) + coef3*exp(theta3))\n",
    "\n",
    "def Hrh_ud (lamda,x,y):\n",
    "    return conjugate(Hr_ud(lamda,x,y))\n",
    "\n",
    "def Hr_du (lamda,x,y):\n",
    "    \n",
    "    theta1 = I*(x/2 + sqrt(3)*y/2)\n",
    "    theta2 = I*(x/2 - sqrt(3)*y/2)\n",
    "    theta3 = -I*x\n",
    "    \n",
    "    coef1 = sqrt(3)/2 -I/2\n",
    "    coef2 = -sqrt(3)/2 -I/2\n",
    "    coef3 = -I\n",
    "    \n",
    "    return I*lamda*(coef1*exp(theta1) + coef2*exp(theta2) + coef3*exp(theta3))\n",
    "\n",
    "def Hrh_du (lamda,x,y):\n",
    "    return conjugate(Hr_du(lamda,x,y))\n"
   ]
  },
  {
   "cell_type": "code",
   "execution_count": null,
   "metadata": {},
   "outputs": [],
   "source": [
    "\n",
    "x,y,z = symbols('x,y,z')\n",
    "pot, soc, tb, r = 0, 1, 1, 2\n",
    "\n",
    "Ham = Matrix(4,4,[Hsoc(soc,x,y)+Hpot(pot), Htb(tb,x,y), 0, Hr_ud(r,x,y), \n",
    "                    Htbh(tb,x,y), Hsocm(soc,x,y)-Hpot(pot), Hrh_ud(r,x,y), 0,\n",
    "                    0, Hr_du(r,x,y), Hsoc(soc,x,y)+Hpot(pot), Htb(tb,x,y), \n",
    "                    Hrh_du(r,x,y), 0, Htbh(tb,x,y), Hsocm(soc,x,y)-Hpot(pot)])\n",
    "\n",
    "(P,D) = Ham.diagonalize()\n"
   ]
  },
  {
   "cell_type": "code",
   "execution_count": null,
   "metadata": {},
   "outputs": [],
   "source": [
    "x,y = symbols('x,y')\n",
    "\n",
    "H1 = lambdify( [x,y], D[0] )\n",
    "H2 = lambdify( [x,y], D[5] )\n",
    "H3 = lambdify( [x,y], D[10] )\n",
    "H4 = lambdify( [x,y], D[15] )\n",
    "\n",
    "D[0] == D[5]"
   ]
  },
  {
   "cell_type": "code",
   "execution_count": null,
   "metadata": {},
   "outputs": [],
   "source": [
    "x = 3\n",
    "y = -3\n",
    "I = complex(0,1)\n",
    "def conjugate(a):\n",
    "    return a.conjugate()\n",
    "def sqrt(a):\n",
    "    return np.sqrt(a)\n",
    "def exp(a):\n",
    "    return np.exp(a)\n",
    "def cos(a):\n",
    "    return np.cos(a)\n",
    "def sin(a):\n",
    "    return np.sin(a)\n"
   ]
  },
  {
   "cell_type": "code",
   "execution_count": null,
   "metadata": {},
   "outputs": [],
   "source": [
    "from mpl_toolkits.mplot3d import Axes3D\n",
    "import matplotlib.pyplot as plt\n",
    "from matplotlib import cm\n",
    "from matplotlib.ticker import LinearLocator, FormatStrFormatter\n",
    "\n",
    "#plotting total wavefunction\n",
    "\n",
    "fig = plt.figure()\n",
    "ax = fig.gca(projection='3d')\n",
    "x_range = m.pi+0.2\n",
    "y_range = m.pi+0.2\n",
    "# Make data.\n",
    "X = np.arange(-x_range, x_range, 0.1)\n",
    "Y = np.arange(-y_range, y_range, 0.1)\n",
    "X, Y = np.meshgrid(X, Y)\n",
    "#R = np.sqrt(X**2 + Y**2)\n",
    "\n",
    "\n",
    "# Plot the surface.\n",
    "surf1 = ax.plot_surface(X, Y, H1(X,Y).real, cmap=cm.Blues,\n",
    "                       linewidth=0, antialiased=False)\n",
    "\n",
    "#surf2 = ax.plot_surface(X, Y, H2(X,Y).real, cmap=cm.Reds,\n",
    "#                       linewidth=0, antialiased=False)\n",
    "\n",
    "#surf3 = ax.plot_surface(X, Y, H3(X,Y).real, cmap=cm.Greys,\n",
    " #                      linewidth=0, antialiased=False)\n",
    "\n",
    "surf4 = ax.plot_surface(X, Y, H4(X,Y).real, cmap=cm.Greens,\n",
    "                       linewidth=0, antialiased=False)\n",
    "\n",
    "# Customize the z axis.\n",
    "ax.set_zlim(-5, 5)\n",
    "ax.set_xlim(-x_range+0.2,x_range+0.2)\n",
    "ax.set_ylim(-y_range+0.2,y_range+0.2)\n",
    "ax.zaxis.set_major_locator(LinearLocator(10))\n",
    "ax.zaxis.set_major_formatter(FormatStrFormatter('%.02f'))\n",
    "\n",
    "# Add a color bar which maps values to colors.\n",
    "#fig.colorbar(surf1, shrink=0.5, aspect=5)\n",
    "#fig.colorbar(surf2, shrink=0.5, aspect=5)\n",
    "#fig.colorbar(surf3, shrink=0.5, aspect=5)\n",
    "#fig.colorbar(surf4, shrink=0.5, aspect=5)\n",
    "\n",
    "#plt.show()\n",
    "# rotate the axes and update\n",
    "ax.view_init(45, 45)\n",
    "plt.draw()"
   ]
  },
  {
   "cell_type": "code",
   "execution_count": 112,
   "metadata": {},
   "outputs": [
    {
     "name": "stdout",
     "output_type": "stream",
     "text": [
      "I*(2*exp(I*x/2)*cos(sqrt(3)*y/2) + exp(-I*x))\n",
      "-I*(exp(I*conjugate(x)) + 2*exp(-I*conjugate(x)/2)*cos(sqrt(3)*conjugate(y)/2))\n"
     ]
    }
   ],
   "source": [
    "print(Hr(1,x,y))\n",
    "print(Hrh(1,x,y))\n"
   ]
  },
  {
   "cell_type": "code",
   "execution_count": null,
   "metadata": {},
   "outputs": [],
   "source": []
  },
  {
   "cell_type": "code",
   "execution_count": null,
   "metadata": {},
   "outputs": [],
   "source": []
  }
 ],
 "metadata": {
  "kernelspec": {
   "display_name": "Python 3",
   "language": "python",
   "name": "python3"
  },
  "language_info": {
   "codemirror_mode": {
    "name": "ipython",
    "version": 3
   },
   "file_extension": ".py",
   "mimetype": "text/x-python",
   "name": "python",
   "nbconvert_exporter": "python",
   "pygments_lexer": "ipython3",
   "version": "3.7.1"
  }
 },
 "nbformat": 4,
 "nbformat_minor": 2
}
